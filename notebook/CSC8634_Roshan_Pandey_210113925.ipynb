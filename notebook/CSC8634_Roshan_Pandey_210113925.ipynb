{
 "cells": [
  {
   "cell_type": "markdown",
   "metadata": {
    "id": "JJgKSWLUq5Y-"
   },
   "source": [
    "# Performance evaluation of Terapixel rendering in Cloud (Super)computing"
   ]
  },
  {
   "cell_type": "code",
   "execution_count": null,
   "metadata": {
    "id": "4iGdGFXo9rQZ"
   },
   "outputs": [],
   "source": [
    "# !pip install sweetviz"
   ]
  },
  {
   "cell_type": "code",
   "execution_count": 1,
   "metadata": {
    "id": "LMN0q7kPZWnD"
   },
   "outputs": [],
   "source": [
    "import pandas as pd\n",
    "import numpy as np\n",
    "import matplotlib.pyplot as plt\n",
    "import seaborn as sns\n",
    "# import sweetviz as sv\n",
    "import IPython"
   ]
  },
  {
   "cell_type": "code",
   "execution_count": 3,
   "metadata": {
    "id": "L4-zmi-w4XMx"
   },
   "outputs": [],
   "source": [
    "app_check = pd.read_csv(\"../data/application-checkpoints.csv\")\n",
    "gpu = pd.read_csv(\"../data/gpu.csv\")\n",
    "task_xy = pd.read_csv(\"../data/task-x-y.csv\")"
   ]
  },
  {
   "cell_type": "code",
   "execution_count": 4,
   "metadata": {
    "colab": {
     "base_uri": "https://localhost:8080/",
     "height": 363
    },
    "id": "Wz0xMTOC-7y_",
    "outputId": "b03713d9-4097-4465-ecfe-7a00c4c04b13"
   },
   "outputs": [
    {
     "data": {
      "text/html": [
       "<div>\n",
       "<style scoped>\n",
       "    .dataframe tbody tr th:only-of-type {\n",
       "        vertical-align: middle;\n",
       "    }\n",
       "\n",
       "    .dataframe tbody tr th {\n",
       "        vertical-align: top;\n",
       "    }\n",
       "\n",
       "    .dataframe thead th {\n",
       "        text-align: right;\n",
       "    }\n",
       "</style>\n",
       "<table border=\"1\" class=\"dataframe\">\n",
       "  <thead>\n",
       "    <tr style=\"text-align: right;\">\n",
       "      <th></th>\n",
       "      <th>timestamp</th>\n",
       "      <th>hostname</th>\n",
       "      <th>eventName</th>\n",
       "      <th>eventType</th>\n",
       "      <th>jobId</th>\n",
       "      <th>taskId</th>\n",
       "    </tr>\n",
       "  </thead>\n",
       "  <tbody>\n",
       "    <tr>\n",
       "      <th>0</th>\n",
       "      <td>2018-11-08T07:41:55.921Z</td>\n",
       "      <td>0d56a730076643d585f77e00d2d8521a00000N</td>\n",
       "      <td>Tiling</td>\n",
       "      <td>STOP</td>\n",
       "      <td>1024-lvl12-7e026be3-5fd0-48ee-b7d1-abd61f747705</td>\n",
       "      <td>b47f0263-ba1c-48a7-8d29-4bf021b72043</td>\n",
       "    </tr>\n",
       "    <tr>\n",
       "      <th>1</th>\n",
       "      <td>2018-11-08T07:42:29.842Z</td>\n",
       "      <td>0d56a730076643d585f77e00d2d8521a00000N</td>\n",
       "      <td>Saving Config</td>\n",
       "      <td>START</td>\n",
       "      <td>1024-lvl12-7e026be3-5fd0-48ee-b7d1-abd61f747705</td>\n",
       "      <td>20fb9fcf-a927-4a4b-a64c-70258b66b42d</td>\n",
       "    </tr>\n",
       "    <tr>\n",
       "      <th>2</th>\n",
       "      <td>2018-11-08T07:42:29.845Z</td>\n",
       "      <td>0d56a730076643d585f77e00d2d8521a00000N</td>\n",
       "      <td>Saving Config</td>\n",
       "      <td>STOP</td>\n",
       "      <td>1024-lvl12-7e026be3-5fd0-48ee-b7d1-abd61f747705</td>\n",
       "      <td>20fb9fcf-a927-4a4b-a64c-70258b66b42d</td>\n",
       "    </tr>\n",
       "    <tr>\n",
       "      <th>3</th>\n",
       "      <td>2018-11-08T07:42:29.845Z</td>\n",
       "      <td>0d56a730076643d585f77e00d2d8521a00000N</td>\n",
       "      <td>Render</td>\n",
       "      <td>START</td>\n",
       "      <td>1024-lvl12-7e026be3-5fd0-48ee-b7d1-abd61f747705</td>\n",
       "      <td>20fb9fcf-a927-4a4b-a64c-70258b66b42d</td>\n",
       "    </tr>\n",
       "    <tr>\n",
       "      <th>4</th>\n",
       "      <td>2018-11-08T07:43:13.957Z</td>\n",
       "      <td>0d56a730076643d585f77e00d2d8521a00000N</td>\n",
       "      <td>TotalRender</td>\n",
       "      <td>STOP</td>\n",
       "      <td>1024-lvl12-7e026be3-5fd0-48ee-b7d1-abd61f747705</td>\n",
       "      <td>20fb9fcf-a927-4a4b-a64c-70258b66b42d</td>\n",
       "    </tr>\n",
       "    <tr>\n",
       "      <th>5</th>\n",
       "      <td>2018-11-08T07:43:56.239Z</td>\n",
       "      <td>0d56a730076643d585f77e00d2d8521a00000N</td>\n",
       "      <td>Render</td>\n",
       "      <td>STOP</td>\n",
       "      <td>1024-lvl12-7e026be3-5fd0-48ee-b7d1-abd61f747705</td>\n",
       "      <td>3dd4840c-47f2-4dcc-a775-df2ef6498d71</td>\n",
       "    </tr>\n",
       "    <tr>\n",
       "      <th>6</th>\n",
       "      <td>2018-11-08T07:43:56.239Z</td>\n",
       "      <td>0d56a730076643d585f77e00d2d8521a00000N</td>\n",
       "      <td>Uploading</td>\n",
       "      <td>START</td>\n",
       "      <td>1024-lvl12-7e026be3-5fd0-48ee-b7d1-abd61f747705</td>\n",
       "      <td>3dd4840c-47f2-4dcc-a775-df2ef6498d71</td>\n",
       "    </tr>\n",
       "    <tr>\n",
       "      <th>7</th>\n",
       "      <td>2018-11-08T07:43:57.223Z</td>\n",
       "      <td>0d56a730076643d585f77e00d2d8521a00000N</td>\n",
       "      <td>Tiling</td>\n",
       "      <td>STOP</td>\n",
       "      <td>1024-lvl12-7e026be3-5fd0-48ee-b7d1-abd61f747705</td>\n",
       "      <td>3dd4840c-47f2-4dcc-a775-df2ef6498d71</td>\n",
       "    </tr>\n",
       "    <tr>\n",
       "      <th>8</th>\n",
       "      <td>2018-11-08T07:44:47.555Z</td>\n",
       "      <td>0d56a730076643d585f77e00d2d8521a00000N</td>\n",
       "      <td>Saving Config</td>\n",
       "      <td>START</td>\n",
       "      <td>1024-lvl12-7e026be3-5fd0-48ee-b7d1-abd61f747705</td>\n",
       "      <td>c9e249d8-52ed-40c6-8713-b5cbf02ea87e</td>\n",
       "    </tr>\n",
       "    <tr>\n",
       "      <th>9</th>\n",
       "      <td>2018-11-08T07:45:20.713Z</td>\n",
       "      <td>0d56a730076643d585f77e00d2d8521a00000N</td>\n",
       "      <td>Render</td>\n",
       "      <td>STOP</td>\n",
       "      <td>1024-lvl12-7e026be3-5fd0-48ee-b7d1-abd61f747705</td>\n",
       "      <td>c9e249d8-52ed-40c6-8713-b5cbf02ea87e</td>\n",
       "    </tr>\n",
       "  </tbody>\n",
       "</table>\n",
       "</div>"
      ],
      "text/plain": [
       "                  timestamp                                hostname  \\\n",
       "0  2018-11-08T07:41:55.921Z  0d56a730076643d585f77e00d2d8521a00000N   \n",
       "1  2018-11-08T07:42:29.842Z  0d56a730076643d585f77e00d2d8521a00000N   \n",
       "2  2018-11-08T07:42:29.845Z  0d56a730076643d585f77e00d2d8521a00000N   \n",
       "3  2018-11-08T07:42:29.845Z  0d56a730076643d585f77e00d2d8521a00000N   \n",
       "4  2018-11-08T07:43:13.957Z  0d56a730076643d585f77e00d2d8521a00000N   \n",
       "5  2018-11-08T07:43:56.239Z  0d56a730076643d585f77e00d2d8521a00000N   \n",
       "6  2018-11-08T07:43:56.239Z  0d56a730076643d585f77e00d2d8521a00000N   \n",
       "7  2018-11-08T07:43:57.223Z  0d56a730076643d585f77e00d2d8521a00000N   \n",
       "8  2018-11-08T07:44:47.555Z  0d56a730076643d585f77e00d2d8521a00000N   \n",
       "9  2018-11-08T07:45:20.713Z  0d56a730076643d585f77e00d2d8521a00000N   \n",
       "\n",
       "       eventName eventType                                            jobId  \\\n",
       "0         Tiling      STOP  1024-lvl12-7e026be3-5fd0-48ee-b7d1-abd61f747705   \n",
       "1  Saving Config     START  1024-lvl12-7e026be3-5fd0-48ee-b7d1-abd61f747705   \n",
       "2  Saving Config      STOP  1024-lvl12-7e026be3-5fd0-48ee-b7d1-abd61f747705   \n",
       "3         Render     START  1024-lvl12-7e026be3-5fd0-48ee-b7d1-abd61f747705   \n",
       "4    TotalRender      STOP  1024-lvl12-7e026be3-5fd0-48ee-b7d1-abd61f747705   \n",
       "5         Render      STOP  1024-lvl12-7e026be3-5fd0-48ee-b7d1-abd61f747705   \n",
       "6      Uploading     START  1024-lvl12-7e026be3-5fd0-48ee-b7d1-abd61f747705   \n",
       "7         Tiling      STOP  1024-lvl12-7e026be3-5fd0-48ee-b7d1-abd61f747705   \n",
       "8  Saving Config     START  1024-lvl12-7e026be3-5fd0-48ee-b7d1-abd61f747705   \n",
       "9         Render      STOP  1024-lvl12-7e026be3-5fd0-48ee-b7d1-abd61f747705   \n",
       "\n",
       "                                 taskId  \n",
       "0  b47f0263-ba1c-48a7-8d29-4bf021b72043  \n",
       "1  20fb9fcf-a927-4a4b-a64c-70258b66b42d  \n",
       "2  20fb9fcf-a927-4a4b-a64c-70258b66b42d  \n",
       "3  20fb9fcf-a927-4a4b-a64c-70258b66b42d  \n",
       "4  20fb9fcf-a927-4a4b-a64c-70258b66b42d  \n",
       "5  3dd4840c-47f2-4dcc-a775-df2ef6498d71  \n",
       "6  3dd4840c-47f2-4dcc-a775-df2ef6498d71  \n",
       "7  3dd4840c-47f2-4dcc-a775-df2ef6498d71  \n",
       "8  c9e249d8-52ed-40c6-8713-b5cbf02ea87e  \n",
       "9  c9e249d8-52ed-40c6-8713-b5cbf02ea87e  "
      ]
     },
     "execution_count": 4,
     "metadata": {},
     "output_type": "execute_result"
    }
   ],
   "source": [
    "app_check.head(10)"
   ]
  },
  {
   "cell_type": "code",
   "execution_count": 8,
   "metadata": {
    "colab": {
     "base_uri": "https://localhost:8080/",
     "height": 206
    },
    "id": "pHxvPyWi_At4",
    "outputId": "417ce48e-cca9-420f-8acb-8339a774b609"
   },
   "outputs": [
    {
     "data": {
      "text/html": [
       "<div>\n",
       "<style scoped>\n",
       "    .dataframe tbody tr th:only-of-type {\n",
       "        vertical-align: middle;\n",
       "    }\n",
       "\n",
       "    .dataframe tbody tr th {\n",
       "        vertical-align: top;\n",
       "    }\n",
       "\n",
       "    .dataframe thead th {\n",
       "        text-align: right;\n",
       "    }\n",
       "</style>\n",
       "<table border=\"1\" class=\"dataframe\">\n",
       "  <thead>\n",
       "    <tr style=\"text-align: right;\">\n",
       "      <th></th>\n",
       "      <th>timestamp</th>\n",
       "      <th>hostname</th>\n",
       "      <th>gpuSerial</th>\n",
       "      <th>gpuUUID</th>\n",
       "      <th>powerDrawWatt</th>\n",
       "      <th>gpuTempC</th>\n",
       "      <th>gpuUtilPerc</th>\n",
       "      <th>gpuMemUtilPerc</th>\n",
       "    </tr>\n",
       "  </thead>\n",
       "  <tbody>\n",
       "    <tr>\n",
       "      <th>0</th>\n",
       "      <td>2018-11-08T08:27:10.314Z</td>\n",
       "      <td>8b6a0eebc87b4cb2b0539e81075191b900001C</td>\n",
       "      <td>323217055910</td>\n",
       "      <td>GPU-1d1602dc-f615-a7c7-ab53-fb4a7a479534</td>\n",
       "      <td>131.55</td>\n",
       "      <td>48</td>\n",
       "      <td>92</td>\n",
       "      <td>53</td>\n",
       "    </tr>\n",
       "    <tr>\n",
       "      <th>1</th>\n",
       "      <td>2018-11-08T08:27:10.192Z</td>\n",
       "      <td>d8241877cd994572b46c861e5d144c85000000</td>\n",
       "      <td>323617020295</td>\n",
       "      <td>GPU-04a2dea7-f4f1-12d0-b94d-996446746e6f</td>\n",
       "      <td>117.03</td>\n",
       "      <td>40</td>\n",
       "      <td>92</td>\n",
       "      <td>48</td>\n",
       "    </tr>\n",
       "    <tr>\n",
       "      <th>2</th>\n",
       "      <td>2018-11-08T08:27:10.842Z</td>\n",
       "      <td>db871cd77a544e13bc791a64a0c8ed50000006</td>\n",
       "      <td>323217056562</td>\n",
       "      <td>GPU-f4597939-a0b4-e78a-2436-12dbab9a350f</td>\n",
       "      <td>121.64</td>\n",
       "      <td>45</td>\n",
       "      <td>91</td>\n",
       "      <td>44</td>\n",
       "    </tr>\n",
       "    <tr>\n",
       "      <th>3</th>\n",
       "      <td>2018-11-08T08:27:10.424Z</td>\n",
       "      <td>b9a1fa7ae2f74eb68f25f607980f97d7000010</td>\n",
       "      <td>325217085931</td>\n",
       "      <td>GPU-ad773c69-c386-a4be-b214-1ea4fc6045df</td>\n",
       "      <td>50.23</td>\n",
       "      <td>38</td>\n",
       "      <td>90</td>\n",
       "      <td>43</td>\n",
       "    </tr>\n",
       "    <tr>\n",
       "      <th>4</th>\n",
       "      <td>2018-11-08T08:27:10.937Z</td>\n",
       "      <td>db871cd77a544e13bc791a64a0c8ed50000003</td>\n",
       "      <td>323217056464</td>\n",
       "      <td>GPU-2d4eed64-4ca8-f12c-24bc-28f036493ea2</td>\n",
       "      <td>141.82</td>\n",
       "      <td>41</td>\n",
       "      <td>90</td>\n",
       "      <td>47</td>\n",
       "    </tr>\n",
       "  </tbody>\n",
       "</table>\n",
       "</div>"
      ],
      "text/plain": [
       "                  timestamp  ... gpuMemUtilPerc\n",
       "0  2018-11-08T08:27:10.314Z  ...             53\n",
       "1  2018-11-08T08:27:10.192Z  ...             48\n",
       "2  2018-11-08T08:27:10.842Z  ...             44\n",
       "3  2018-11-08T08:27:10.424Z  ...             43\n",
       "4  2018-11-08T08:27:10.937Z  ...             47\n",
       "\n",
       "[5 rows x 8 columns]"
      ]
     },
     "execution_count": 8,
     "metadata": {},
     "output_type": "execute_result"
    }
   ],
   "source": [
    "gpu.head()"
   ]
  },
  {
   "cell_type": "code",
   "execution_count": 17,
   "metadata": {
    "colab": {
     "base_uri": "https://localhost:8080/",
     "height": 206
    },
    "id": "25adgX7I_Ff-",
    "outputId": "12f5c7fa-67d2-491f-d93a-121a0566ba62"
   },
   "outputs": [
    {
     "data": {
      "text/html": [
       "<div>\n",
       "<style scoped>\n",
       "    .dataframe tbody tr th:only-of-type {\n",
       "        vertical-align: middle;\n",
       "    }\n",
       "\n",
       "    .dataframe tbody tr th {\n",
       "        vertical-align: top;\n",
       "    }\n",
       "\n",
       "    .dataframe thead th {\n",
       "        text-align: right;\n",
       "    }\n",
       "</style>\n",
       "<table border=\"1\" class=\"dataframe\">\n",
       "  <thead>\n",
       "    <tr style=\"text-align: right;\">\n",
       "      <th></th>\n",
       "      <th>taskId</th>\n",
       "      <th>jobId</th>\n",
       "      <th>x</th>\n",
       "      <th>y</th>\n",
       "      <th>level</th>\n",
       "    </tr>\n",
       "  </thead>\n",
       "  <tbody>\n",
       "    <tr>\n",
       "      <th>0</th>\n",
       "      <td>00004e77-304c-4fbd-88a1-1346ef947567</td>\n",
       "      <td>1024-lvl12-7e026be3-5fd0-48ee-b7d1-abd61f747705</td>\n",
       "      <td>116</td>\n",
       "      <td>178</td>\n",
       "      <td>12</td>\n",
       "    </tr>\n",
       "    <tr>\n",
       "      <th>1</th>\n",
       "      <td>0002afb5-d05e-4da9-bd53-7b6dc19ea6d4</td>\n",
       "      <td>1024-lvl12-7e026be3-5fd0-48ee-b7d1-abd61f747705</td>\n",
       "      <td>142</td>\n",
       "      <td>190</td>\n",
       "      <td>12</td>\n",
       "    </tr>\n",
       "    <tr>\n",
       "      <th>2</th>\n",
       "      <td>0003c380-4db9-49fb-8e1c-6f8ae466ad85</td>\n",
       "      <td>1024-lvl12-7e026be3-5fd0-48ee-b7d1-abd61f747705</td>\n",
       "      <td>142</td>\n",
       "      <td>86</td>\n",
       "      <td>12</td>\n",
       "    </tr>\n",
       "    <tr>\n",
       "      <th>3</th>\n",
       "      <td>000993b6-fc88-489d-a4ca-0a44fd800bd3</td>\n",
       "      <td>1024-lvl12-7e026be3-5fd0-48ee-b7d1-abd61f747705</td>\n",
       "      <td>235</td>\n",
       "      <td>11</td>\n",
       "      <td>12</td>\n",
       "    </tr>\n",
       "    <tr>\n",
       "      <th>4</th>\n",
       "      <td>000b158b-0ba3-4dca-bf5b-1b3bd5c28207</td>\n",
       "      <td>1024-lvl12-7e026be3-5fd0-48ee-b7d1-abd61f747705</td>\n",
       "      <td>171</td>\n",
       "      <td>53</td>\n",
       "      <td>12</td>\n",
       "    </tr>\n",
       "  </tbody>\n",
       "</table>\n",
       "</div>"
      ],
      "text/plain": [
       "                                 taskId  ... level\n",
       "0  00004e77-304c-4fbd-88a1-1346ef947567  ...    12\n",
       "1  0002afb5-d05e-4da9-bd53-7b6dc19ea6d4  ...    12\n",
       "2  0003c380-4db9-49fb-8e1c-6f8ae466ad85  ...    12\n",
       "3  000993b6-fc88-489d-a4ca-0a44fd800bd3  ...    12\n",
       "4  000b158b-0ba3-4dca-bf5b-1b3bd5c28207  ...    12\n",
       "\n",
       "[5 rows x 5 columns]"
      ]
     },
     "execution_count": 17,
     "metadata": {},
     "output_type": "execute_result"
    }
   ],
   "source": [
    "task_xy.head()"
   ]
  },
  {
   "cell_type": "code",
   "execution_count": null,
   "metadata": {
    "id": "03wX9EnS8MNs"
   },
   "outputs": [],
   "source": [
    "# gpu_report = sv.analyze(gpu, target_feat = \"powerDrawWatt\")\n",
    "# gpu_report.show_html(filepath = \"/content/drive/MyDrive/terascope/reports/gpu_report.html\")"
   ]
  },
  {
   "cell_type": "code",
   "execution_count": null,
   "metadata": {
    "id": "7qwsXPwf_y4h"
   },
   "outputs": [],
   "source": [
    "# IPython.display.HTML(filename = \"/content/drive/MyDrive/terascope/reports/gpu_report.html\")"
   ]
  },
  {
   "cell_type": "code",
   "execution_count": 23,
   "metadata": {
    "colab": {
     "base_uri": "https://localhost:8080/"
    },
    "id": "DC08elAeq0y3",
    "outputId": "2a38fcb7-9bd5-4c46-a93c-29f0db34093e"
   },
   "outputs": [
    {
     "data": {
      "text/plain": [
       "eventName\n",
       "Uploading        132080\n",
       "TotalRender      132080\n",
       "Tiling           132080\n",
       "Saving Config    132080\n",
       "Render           132080\n",
       "dtype: int64"
      ]
     },
     "execution_count": 23,
     "metadata": {},
     "output_type": "execute_result"
    }
   ],
   "source": [
    "app_check.value_counts(\"eventName\")"
   ]
  },
  {
   "cell_type": "code",
   "execution_count": 26,
   "metadata": {
    "colab": {
     "base_uri": "https://localhost:8080/",
     "height": 206
    },
    "id": "_6SnVPKhvxEA",
    "outputId": "ea627c2f-b30f-4095-9881-68ef82c15210"
   },
   "outputs": [
    {
     "data": {
      "text/html": [
       "<div>\n",
       "<style scoped>\n",
       "    .dataframe tbody tr th:only-of-type {\n",
       "        vertical-align: middle;\n",
       "    }\n",
       "\n",
       "    .dataframe tbody tr th {\n",
       "        vertical-align: top;\n",
       "    }\n",
       "\n",
       "    .dataframe thead th {\n",
       "        text-align: right;\n",
       "    }\n",
       "</style>\n",
       "<table border=\"1\" class=\"dataframe\">\n",
       "  <thead>\n",
       "    <tr style=\"text-align: right;\">\n",
       "      <th></th>\n",
       "      <th>timestamp</th>\n",
       "      <th>hostname</th>\n",
       "      <th>eventName</th>\n",
       "      <th>eventType</th>\n",
       "      <th>jobId</th>\n",
       "      <th>taskId</th>\n",
       "    </tr>\n",
       "  </thead>\n",
       "  <tbody>\n",
       "    <tr>\n",
       "      <th>0</th>\n",
       "      <td>2018-11-08T07:41:55.921Z</td>\n",
       "      <td>0d56a730076643d585f77e00d2d8521a00000N</td>\n",
       "      <td>Tiling</td>\n",
       "      <td>STOP</td>\n",
       "      <td>1024-lvl12-7e026be3-5fd0-48ee-b7d1-abd61f747705</td>\n",
       "      <td>b47f0263-ba1c-48a7-8d29-4bf021b72043</td>\n",
       "    </tr>\n",
       "    <tr>\n",
       "      <th>7</th>\n",
       "      <td>2018-11-08T07:43:57.223Z</td>\n",
       "      <td>0d56a730076643d585f77e00d2d8521a00000N</td>\n",
       "      <td>Tiling</td>\n",
       "      <td>STOP</td>\n",
       "      <td>1024-lvl12-7e026be3-5fd0-48ee-b7d1-abd61f747705</td>\n",
       "      <td>3dd4840c-47f2-4dcc-a775-df2ef6498d71</td>\n",
       "    </tr>\n",
       "    <tr>\n",
       "      <th>12</th>\n",
       "      <td>2018-11-08T07:46:05.517Z</td>\n",
       "      <td>0d56a730076643d585f77e00d2d8521a00000N</td>\n",
       "      <td>Tiling</td>\n",
       "      <td>STOP</td>\n",
       "      <td>1024-lvl12-7e026be3-5fd0-48ee-b7d1-abd61f747705</td>\n",
       "      <td>c5a7a2df-ddeb-4f54-9cc5-446e3a9ba1ba</td>\n",
       "    </tr>\n",
       "    <tr>\n",
       "      <th>16</th>\n",
       "      <td>2018-11-08T07:47:38.464Z</td>\n",
       "      <td>0d56a730076643d585f77e00d2d8521a00000N</td>\n",
       "      <td>Tiling</td>\n",
       "      <td>START</td>\n",
       "      <td>1024-lvl12-7e026be3-5fd0-48ee-b7d1-abd61f747705</td>\n",
       "      <td>c8c93ada-22ea-4ca8-aa1b-9f9d4b89bfba</td>\n",
       "    </tr>\n",
       "    <tr>\n",
       "      <th>17</th>\n",
       "      <td>2018-11-08T07:49:41.858Z</td>\n",
       "      <td>0d56a730076643d585f77e00d2d8521a00000N</td>\n",
       "      <td>Tiling</td>\n",
       "      <td>START</td>\n",
       "      <td>1024-lvl12-7e026be3-5fd0-48ee-b7d1-abd61f747705</td>\n",
       "      <td>bce8d6bb-8cfe-475b-ae03-af28d1fac10a</td>\n",
       "    </tr>\n",
       "  </tbody>\n",
       "</table>\n",
       "</div>"
      ],
      "text/plain": [
       "                   timestamp  ...                                taskId\n",
       "0   2018-11-08T07:41:55.921Z  ...  b47f0263-ba1c-48a7-8d29-4bf021b72043\n",
       "7   2018-11-08T07:43:57.223Z  ...  3dd4840c-47f2-4dcc-a775-df2ef6498d71\n",
       "12  2018-11-08T07:46:05.517Z  ...  c5a7a2df-ddeb-4f54-9cc5-446e3a9ba1ba\n",
       "16  2018-11-08T07:47:38.464Z  ...  c8c93ada-22ea-4ca8-aa1b-9f9d4b89bfba\n",
       "17  2018-11-08T07:49:41.858Z  ...  bce8d6bb-8cfe-475b-ae03-af28d1fac10a\n",
       "\n",
       "[5 rows x 6 columns]"
      ]
     },
     "execution_count": 26,
     "metadata": {},
     "output_type": "execute_result"
    }
   ],
   "source": [
    "app_check[app_check[\"eventName\"] == \"Tiling\"].head()"
   ]
  },
  {
   "cell_type": "code",
   "execution_count": 11,
   "metadata": {},
   "outputs": [
    {
     "data": {
      "text/html": [
       "<div>\n",
       "<style scoped>\n",
       "    .dataframe tbody tr th:only-of-type {\n",
       "        vertical-align: middle;\n",
       "    }\n",
       "\n",
       "    .dataframe tbody tr th {\n",
       "        vertical-align: top;\n",
       "    }\n",
       "\n",
       "    .dataframe thead th {\n",
       "        text-align: right;\n",
       "    }\n",
       "</style>\n",
       "<table border=\"1\" class=\"dataframe\">\n",
       "  <thead>\n",
       "    <tr style=\"text-align: right;\">\n",
       "      <th></th>\n",
       "      <th>timestamp</th>\n",
       "      <th>hostname</th>\n",
       "      <th>gpuSerial</th>\n",
       "      <th>gpuUUID</th>\n",
       "      <th>powerDrawWatt</th>\n",
       "      <th>gpuTempC</th>\n",
       "      <th>gpuUtilPerc</th>\n",
       "      <th>gpuMemUtilPerc</th>\n",
       "    </tr>\n",
       "  </thead>\n",
       "  <tbody>\n",
       "    <tr>\n",
       "      <th>0</th>\n",
       "      <td>2018-11-08T08:27:10.314Z</td>\n",
       "      <td>8b6a0eebc87b4cb2b0539e81075191b900001C</td>\n",
       "      <td>323217055910</td>\n",
       "      <td>GPU-1d1602dc-f615-a7c7-ab53-fb4a7a479534</td>\n",
       "      <td>131.55</td>\n",
       "      <td>48</td>\n",
       "      <td>92</td>\n",
       "      <td>53</td>\n",
       "    </tr>\n",
       "    <tr>\n",
       "      <th>351</th>\n",
       "      <td>2018-11-08T08:27:28.471Z</td>\n",
       "      <td>8b6a0eebc87b4cb2b0539e81075191b900001C</td>\n",
       "      <td>323217055910</td>\n",
       "      <td>GPU-1d1602dc-f615-a7c7-ab53-fb4a7a479534</td>\n",
       "      <td>29.49</td>\n",
       "      <td>44</td>\n",
       "      <td>0</td>\n",
       "      <td>0</td>\n",
       "    </tr>\n",
       "    <tr>\n",
       "      <th>612</th>\n",
       "      <td>2018-11-08T08:27:26.454Z</td>\n",
       "      <td>8b6a0eebc87b4cb2b0539e81075191b900001C</td>\n",
       "      <td>323217055910</td>\n",
       "      <td>GPU-1d1602dc-f615-a7c7-ab53-fb4a7a479534</td>\n",
       "      <td>36.60</td>\n",
       "      <td>45</td>\n",
       "      <td>0</td>\n",
       "      <td>0</td>\n",
       "    </tr>\n",
       "    <tr>\n",
       "      <th>4059</th>\n",
       "      <td>2018-11-08T08:29:13.352Z</td>\n",
       "      <td>8b6a0eebc87b4cb2b0539e81075191b900001C</td>\n",
       "      <td>323217055910</td>\n",
       "      <td>GPU-1d1602dc-f615-a7c7-ab53-fb4a7a479534</td>\n",
       "      <td>31.13</td>\n",
       "      <td>44</td>\n",
       "      <td>0</td>\n",
       "      <td>0</td>\n",
       "    </tr>\n",
       "    <tr>\n",
       "      <th>4223</th>\n",
       "      <td>2018-11-08T08:29:11.336Z</td>\n",
       "      <td>8b6a0eebc87b4cb2b0539e81075191b900001C</td>\n",
       "      <td>323217055910</td>\n",
       "      <td>GPU-1d1602dc-f615-a7c7-ab53-fb4a7a479534</td>\n",
       "      <td>31.30</td>\n",
       "      <td>45</td>\n",
       "      <td>0</td>\n",
       "      <td>0</td>\n",
       "    </tr>\n",
       "  </tbody>\n",
       "</table>\n",
       "</div>"
      ],
      "text/plain": [
       "                     timestamp                                hostname  \\\n",
       "0     2018-11-08T08:27:10.314Z  8b6a0eebc87b4cb2b0539e81075191b900001C   \n",
       "351   2018-11-08T08:27:28.471Z  8b6a0eebc87b4cb2b0539e81075191b900001C   \n",
       "612   2018-11-08T08:27:26.454Z  8b6a0eebc87b4cb2b0539e81075191b900001C   \n",
       "4059  2018-11-08T08:29:13.352Z  8b6a0eebc87b4cb2b0539e81075191b900001C   \n",
       "4223  2018-11-08T08:29:11.336Z  8b6a0eebc87b4cb2b0539e81075191b900001C   \n",
       "\n",
       "         gpuSerial                                   gpuUUID  powerDrawWatt  \\\n",
       "0     323217055910  GPU-1d1602dc-f615-a7c7-ab53-fb4a7a479534         131.55   \n",
       "351   323217055910  GPU-1d1602dc-f615-a7c7-ab53-fb4a7a479534          29.49   \n",
       "612   323217055910  GPU-1d1602dc-f615-a7c7-ab53-fb4a7a479534          36.60   \n",
       "4059  323217055910  GPU-1d1602dc-f615-a7c7-ab53-fb4a7a479534          31.13   \n",
       "4223  323217055910  GPU-1d1602dc-f615-a7c7-ab53-fb4a7a479534          31.30   \n",
       "\n",
       "      gpuTempC  gpuUtilPerc  gpuMemUtilPerc  \n",
       "0           48           92              53  \n",
       "351         44            0               0  \n",
       "612         45            0               0  \n",
       "4059        44            0               0  \n",
       "4223        45            0               0  "
      ]
     },
     "execution_count": 11,
     "metadata": {},
     "output_type": "execute_result"
    }
   ],
   "source": [
    "gpu[gpu['gpuSerial'] == 323217055910].head()"
   ]
  },
  {
   "cell_type": "code",
   "execution_count": 10,
   "metadata": {},
   "outputs": [],
   "source": [
    "gpu['gpuSerial'] = pd.Categorical(gpu.gpuSerial)"
   ]
  },
  {
   "cell_type": "code",
   "execution_count": 5,
   "metadata": {
    "colab": {
     "base_uri": "https://localhost:8080/",
     "height": 415
    },
    "id": "lWL9fJ6MxWU8",
    "outputId": "76dcebde-b2b6-4e47-8360-2e6085b2a02f"
   },
   "outputs": [
    {
     "data": {
      "image/png": "[encoded data removed]",
      "text/plain": [
       "<Figure size 432x288 with 1 Axes>"
      ]
     },
     "metadata": {
      "needs_background": "light"
     },
     "output_type": "display_data"
    }
   ],
   "source": [
    "ax = sns.lineplot(data=gpu, x=\"powerDrawWatt\", y=\"gpuTempC\")\n",
    "plt.xlabel('Power Draw by GPU in Watt')\n",
    "plt.ylabel('GPU Temperature in Celcius')\n",
    "plt.title(\"Power Draw vs Temperature of the GPU\")\n",
    "plt.show()"
   ]
  },
  {
   "cell_type": "code",
   "execution_count": 6,
   "metadata": {
    "id": "m-4e1u4B38LR"
   },
   "outputs": [
    {
     "data": {
      "image/png": "[encoded data removed]",
      "text/plain": [
       "<Figure size 432x288 with 1 Axes>"
      ]
     },
     "metadata": {
      "needs_background": "light"
     },
     "output_type": "display_data"
    }
   ],
   "source": [
    "ax = sns.lineplot(data=pd.melt(gpu[[\"powerDrawWatt\", \"gpuTempC\", \"gpuUtilPerc\", \"gpuMemUtilPerc\"]], 'powerDrawWatt'), x=\"powerDrawWatt\", y=\"value\", hue = \"variable\")\n",
    "plt.xlabel('Power Draw by GPU in Watt')\n",
    "plt.ylabel('Percent Utilization and Temp (C)')\n",
    "plt.title(\"Power Draw and Temp vs Utilization\")\n",
    "plt.legend(bbox_to_anchor=(1.02, 1), fontsize='large', loc='center left', borderaxespad=0)\n",
    "plt.show()"
   ]
  },
  {
   "cell_type": "code",
   "execution_count": 13,
   "metadata": {},
   "outputs": [
    {
     "data": {
      "image/png": "[encoded data removed]",
      "text/plain": [
       "<Figure size 432x288 with 1 Axes>"
      ]
     },
     "metadata": {
      "needs_background": "light"
     },
     "output_type": "display_data"
    }
   ],
   "source": [
    "# ax = sns.lineplot(data = gpu, x = \"gpuSerial\", y = \"powerDrawWatt\")\n",
    "ax = sns.lineplot(data = gpu, x = \"gpuSerial\", y = \"powerDrawWatt\")\n",
    "plt.xlabel('GPU Serial Number')\n",
    "plt.ylabel('Power Drawn by GPU in Watt')\n",
    "plt.title('Power Drawn by Secific GPUs')\n",
    "plt.show()"
   ]
  }
 ],
 "metadata": {
  "colab": {
   "name": "CSC8634_Roshan_Pandey_210113925.ipynb",
   "provenance": []
  },
  "kernelspec": {
   "display_name": "TensorFlow-GPU",
   "language": "python",
   "name": "venv"
  },
  "language_info": {
   "codemirror_mode": {
    "name": "ipython",
    "version": 3
   },
   "file_extension": ".py",
   "mimetype": "text/x-python",
   "name": "python",
   "nbconvert_exporter": "python",
   "pygments_lexer": "ipython3",
   "version": "3.8.3"
  }
 },
 "nbformat": 4,
 "nbformat_minor": 1
}
